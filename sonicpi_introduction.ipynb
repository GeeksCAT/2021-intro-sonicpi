{
 "cells": [
  {
   "cell_type": "markdown",
   "metadata": {
    "collapsed": true,
    "slideshow": {
     "slide_type": "slide"
    }
   },
   "source": [
    "<CENTER>\n",
    "    <table>\n",
    "        <tr>\n",
    "            <td>\n",
    "<img src=\"http://gitech.cat/wp-content/uploads/2018/02/LogoGitech-1.png\">\n",
    "            </td>\n",
    "            <td>\n",
    "<img src=\"http://www.tecnoateneu.cat/wp-content/uploads/2015/10/cropped-tecnoateneu-twitter-400x400.png\" height=\"200\" width=\"200\">\n",
    "            </td>\n",
    "        </tr>\n",
    "    </table>\n",
    "    \n",
    "\n",
    "  <header>\n",
    "    <h1>Introducció a Sonic Pi</h1>\n",
    "    <h3>Gitech - 28 Abril 2018</h3>\n",
    "    <h2>@victormartin</h2>\n",
    "    <p></p>\n",
    "  </header>\n",
    "</CENTER>"
   ]
  },
  {
   "cell_type": "code",
   "execution_count": 1,
   "metadata": {
    "slideshow": {
     "slide_type": "skip"
    }
   },
   "outputs": [
    {
     "data": {
      "text/plain": [
       ":sonicpi_code"
      ]
     },
     "execution_count": 1,
     "metadata": {},
     "output_type": "execute_result"
    }
   ],
   "source": [
    "# IMPORTANT: La aplicació Sonic Pi ha d'estar executant-se!!! Si més no el sonic-pi-server:\n",
    "# $ ruby app/server/ruby/bin/sonic-pi-server.rb\n",
    "\n",
    "# Importem sonic_pi\n",
    "require 'sonic_pi'\n",
    "\n",
    "# Variable global\n",
    "$sonicpi = SonicPi.new\n",
    "\n",
    "# Alias per facilitar els exemples\n",
    "def sonicpi_code(sonicpi_command)\n",
    "  $sonicpi.run(sonicpi_command)\n",
    "end"
   ]
  },
  {
   "cell_type": "markdown",
   "metadata": {
    "slideshow": {
     "slide_type": "subslide"
    }
   },
   "source": [
    "\n",
    "# Què és Sonic Pi?\n",
    "\n",
    "\n",
    "<img src=\"images/sonicpi_logo.png\" width=\"347\" height=\"338\">\n",
    "\n",
    "\n",
    "* Instrument musical electrònic (sintetitzador) _open source_ que es programa en directe\n",
    "\n",
    "Creat al laboratori de computació de la Universitat de Cambridge"
   ]
  },
  {
   "cell_type": "markdown",
   "metadata": {
    "slideshow": {
     "slide_type": "slide"
    }
   },
   "source": [
    "# Què es pot fer amb Sonic Pi?"
   ]
  },
  {
   "cell_type": "code",
   "execution_count": 10,
   "metadata": {},
   "outputs": [
    {
     "data": {
      "text/plain": [
       "704"
      ]
     },
     "execution_count": 10,
     "metadata": {},
     "output_type": "execute_result"
    }
   ],
   "source": [
    "sonicpi_code \"\n",
    "\n",
    "live_loop :low do |idx|\n",
    "  #  idx = 0\n",
    "  synth :zawa, wave: 1, invert_wave: 1, phase: 0.25, release: 5, note: :e1, cutoff: (range 60, 120, 10)[idx]\n",
    "  sleep 4\n",
    "  idx += 1\n",
    "end\n",
    "\n",
    "live_loop :lands, auto_cue: false do |idx|\n",
    "  use_synth :dsaw\n",
    "  use_random_seed 66679\n",
    "  with_fx :reverb, room: 1  do\n",
    "    16.times do\n",
    "      ns = (scale :e2, :minor_pentatonic, num_octaves: 3)\n",
    "      play ns.choose, detune: 12, release: 0.1, amp: 2, amp: rand + 0.5, cutoff: rrand(70, 120)\n",
    "      sleep 0.125\n",
    "    end\n",
    "  end\n",
    "end\n",
    "\n",
    "live_loop :bikes do |idx|\n",
    "  sleep 0.25\n",
    "  sample :guit_em9, rate: -1\n",
    "  sleep 7.75\n",
    "end\n",
    "\n",
    "live_loop :time, auto_cue: false do |idx|\n",
    "  sample :bd_haus, amp: 2.5\n",
    "  sleep 0.5\n",
    "end\n",
    "\n",
    "\""
   ]
  },
  {
   "cell_type": "code",
   "execution_count": 11,
   "metadata": {
    "slideshow": {
     "slide_type": "skip"
    }
   },
   "outputs": [
    {
     "data": {
      "text/plain": [
       "36"
      ]
     },
     "execution_count": 11,
     "metadata": {},
     "output_type": "execute_result"
    }
   ],
   "source": [
    "$sonicpi.stop"
   ]
  },
  {
   "cell_type": "markdown",
   "metadata": {
    "slideshow": {
     "slide_type": "slide"
    }
   },
   "source": [
    "# Missió de Sonic Pi\n",
    "\n",
    "Dissenyat sota els principis:\n",
    "\n",
    "* __Fácil__ per a que un nen de 10 anys el pugui utilitzar\n",
    "* __Divertit__ per a que fins i tot puguis perdre la noció del temps mentre jugues amb ell\n",
    "* __Potent__ per a que puguis expressar-te artísticament a través d'ell"
   ]
  },
  {
   "cell_type": "markdown",
   "metadata": {
    "slideshow": {
     "slide_type": "fragment"
    }
   },
   "source": [
    "Va començar com un experiment per _ensenyar conceptes de programació_ a les escoles, tot jugant amb el procés de crear _nous sons_"
   ]
  },
  {
   "cell_type": "markdown",
   "metadata": {
    "slideshow": {
     "slide_type": "fragment"
    }
   },
   "source": [
    "Ha evolucionat en un potent _instrument musical programat_, utilitzat per artistes professionals i DJs"
   ]
  },
  {
   "cell_type": "markdown",
   "metadata": {
    "slideshow": {
     "slide_type": "slide"
    }
   },
   "source": [
    "# Curset ràpid de Sonic Pi\n",
    "\n",
    "L'aprenentatge de Sonic Pi es basa amb la exploració. No hi ha errors, només descubriments. I per sobre de tot, es tracta de divertir-se.\n",
    "\n",
    "Recorda això: **Passa-t'ho bé, explora i hackeja!** 😋😋\n",
    "\n",
    "Xerrada basada en http://sonic-pi.mehackit.org - *Creative programming workshop with Sonic Pi*"
   ]
  },
  {
   "cell_type": "markdown",
   "metadata": {
    "slideshow": {
     "slide_type": "subslide"
    }
   },
   "source": [
    "# L'aplicació - Entorn de desenvolupament\n",
    "\n",
    "<img src=\"images/sonicpi_ide.png\"/>"
   ]
  },
  {
   "cell_type": "markdown",
   "metadata": {
    "slideshow": {
     "slide_type": "slide"
    }
   },
   "source": [
    "# Fer sonar una nota"
   ]
  },
  {
   "cell_type": "code",
   "execution_count": 19,
   "metadata": {
    "slideshow": {
     "slide_type": "fragment"
    }
   },
   "outputs": [
    {
     "data": {
      "text/plain": [
       "44"
      ]
     },
     "execution_count": 19,
     "metadata": {},
     "output_type": "execute_result"
    }
   ],
   "source": [
    "sonicpi_code \"\n",
    "\n",
    "play 60\n",
    "\n",
    "\""
   ]
  },
  {
   "cell_type": "markdown",
   "metadata": {
    "slideshow": {
     "slide_type": "fragment"
    }
   },
   "source": [
    "Provem diferents valors. Com canvia el so?"
   ]
  },
  {
   "cell_type": "markdown",
   "metadata": {
    "slideshow": {
     "slide_type": "subslide"
    }
   },
   "source": [
    "# Notes Midi\n",
    "\n",
    "Sonic Pi entén notes MIDI (valors de *0* a *127*) i notació musical tradicional (*:C4*, *:Eb3*, *:G5*...)\n",
    "\n",
    "<img src=\"images/midi_notes.png\"/>"
   ]
  },
  {
   "cell_type": "markdown",
   "metadata": {
    "slideshow": {
     "slide_type": "subslide"
    }
   },
   "source": [
    "# Tocar una melodía\n",
    "\n",
    "Escriu aquest codi al buffer i pulsa **Run** (Ctrl+R):"
   ]
  },
  {
   "cell_type": "code",
   "execution_count": 20,
   "metadata": {},
   "outputs": [
    {
     "data": {
      "text/plain": [
       "60"
      ]
     },
     "execution_count": 20,
     "metadata": {},
     "output_type": "execute_result"
    }
   ],
   "source": [
    "sonicpi_code \"\n",
    "\n",
    "play 60\n",
    "play 67\n",
    "play 69\n",
    "\n",
    "\""
   ]
  },
  {
   "cell_type": "markdown",
   "metadata": {
    "slideshow": {
     "slide_type": "fragment"
    }
   },
   "source": [
    "Efectivament, Sonic Pi ha tocat les 3 notes a la vegada. Això no es una melodía, es un acord!"
   ]
  },
  {
   "cell_type": "markdown",
   "metadata": {
    "slideshow": {
     "slide_type": "fragment"
    }
   },
   "source": [
    "Si volem que Sonic Pi reprodueixi les notes sequencialment, li hem de dir que descansi de tant en tant. Prova amb la comanda **sleep**:"
   ]
  },
  {
   "cell_type": "code",
   "execution_count": 21,
   "metadata": {},
   "outputs": [
    {
     "data": {
      "text/plain": [
       "76"
      ]
     },
     "execution_count": 21,
     "metadata": {},
     "output_type": "execute_result"
    }
   ],
   "source": [
    "sonicpi_code \"\n",
    "\n",
    "play 60\n",
    "sleep 1\n",
    "play 67\n",
    "sleep 1\n",
    "play 69\n",
    "\n",
    "\""
   ]
  },
  {
   "cell_type": "markdown",
   "metadata": {
    "slideshow": {
     "slide_type": "subslide"
    }
   },
   "source": [
    "# Silencis\n",
    "\n",
    "La comanda *sleep 1* li diu a Sonic Pi que esperi un \"beat\" (en català *polsació*)\n",
    "\n",
    "En cas que estiguis familiaritzat amb la notació musical, així es com les diferents notes es representen a Sonic Pi:\n",
    "\n",
    "<img src=\"images/notes.png\"/>\n",
    "<img src=\"images/rests.png\"/>"
   ]
  },
  {
   "cell_type": "markdown",
   "metadata": {
    "slideshow": {
     "slide_type": "subslide"
    }
   },
   "source": [
    "# Ara sí, toquem la melodía!"
   ]
  },
  {
   "cell_type": "code",
   "execution_count": 24,
   "metadata": {},
   "outputs": [
    {
     "data": {
      "text/plain": [
       "196"
      ]
     },
     "execution_count": 24,
     "metadata": {},
     "output_type": "execute_result"
    }
   ],
   "source": [
    "sonicpi_code \"\n",
    "\n",
    "use_bpm 40\n",
    "\n",
    "play 72\n",
    "sleep 0.25\n",
    "play 76\n",
    "sleep 0.25\n",
    "play 76\n",
    "sleep 0.25\n",
    "play 72\n",
    "sleep 0.5\n",
    "play 83\n",
    "sleep 0.25\n",
    "play 74\n",
    "sleep 0.25\n",
    "play 83\n",
    "sleep 0.25\n",
    "play 79\n",
    "play 84\n",
    "\n",
    "\""
   ]
  },
  {
   "cell_type": "markdown",
   "metadata": {
    "slideshow": {
     "slide_type": "subslide"
    }
   },
   "source": [
    "# Repetint melodíes\n",
    "\n",
    "Per sort, hi ha una forma fàcil de repetir melodíes (o parts de la mateixa) i evitar-nos el *copy&paste* 😅😅"
   ]
  },
  {
   "cell_type": "code",
   "execution_count": 25,
   "metadata": {},
   "outputs": [
    {
     "data": {
      "text/plain": [
       "144"
      ]
     },
     "execution_count": 25,
     "metadata": {},
     "output_type": "execute_result"
    }
   ],
   "source": [
    "sonicpi_code \"\n",
    "\n",
    "2.times do\n",
    "  play :c4\n",
    "  sleep 0.5\n",
    "  play :d4\n",
    "  sleep 0.5\n",
    "  play :e4\n",
    "  sleep 0.5\n",
    "  play :c4\n",
    "  sleep 0.5\n",
    "end\n",
    "\n",
    "\""
   ]
  },
  {
   "cell_type": "markdown",
   "metadata": {
    "slideshow": {
     "slide_type": "fragment"
    }
   },
   "source": [
    "També podem fer servir repeticions dins de repeticions:"
   ]
  },
  {
   "cell_type": "code",
   "execution_count": 26,
   "metadata": {},
   "outputs": [
    {
     "data": {
      "text/plain": [
       "144"
      ]
     },
     "execution_count": 26,
     "metadata": {},
     "output_type": "execute_result"
    }
   ],
   "source": [
    "sonicpi_code \"\n",
    "\n",
    "4.times do\n",
    "  4.times do\n",
    "    play :c4\n",
    "    sleep 0.25\n",
    "  end\n",
    "  play :d4\n",
    "  sleep 0.5\n",
    "  play :f4\n",
    "  sleep 0.5\n",
    "end\n",
    "\n",
    "\""
   ]
  },
  {
   "cell_type": "markdown",
   "metadata": {
    "slideshow": {
     "slide_type": "slide"
    }
   },
   "source": [
    "# Creem una cançó! 🎼🕺🎶🎶\n",
    "\n",
    "Composem la nostra propia cançó en 3 passes:\n",
    "\n",
    "* **Drum beat**\n",
    "* **Bass track**\n",
    "* **Lead track**"
   ]
  },
  {
   "cell_type": "markdown",
   "metadata": {
    "slideshow": {
     "slide_type": "subslide"
    }
   },
   "source": [
    "# Drum beat\n",
    "\n",
    "Anem a crear un ritme de batería simple, format per bombo (*kick*), caixa (*snare*) i charles (*hi-hat*). \n",
    "Necessitem dues coses noves **live_loop** i **sample**"
   ]
  },
  {
   "cell_type": "code",
   "execution_count": null,
   "metadata": {
    "slideshow": {
     "slide_type": "fragment"
    }
   },
   "outputs": [],
   "source": [
    "sonicpi_code \"\n",
    "\n",
    "live_loop :drums do\n",
    "  sample :drum_heavy_kick\n",
    "  sleep 1\n",
    "end\n",
    "\n",
    "\""
   ]
  },
  {
   "cell_type": "markdown",
   "metadata": {},
   "source": [
    "* **live_loop** es un bucle sense fi, que pot ser sincronitzat amb altres *live_loops*. Com a mínim ha de tenir un *sleep*\n",
    "* **:drums** es l'identificador (o el nom) del bucle. Pots anomenar-lo com vulguis, només serveix per identificar-ho de forma fàcil\n",
    "* **sample** li diu a Sonic Pi que reprodueixi un sample (fitxer d'àudio)"
   ]
  },
  {
   "cell_type": "markdown",
   "metadata": {
    "slideshow": {
     "slide_type": "subslide"
    }
   },
   "source": [
    "# Ritme backbeat simple\n",
    "\n",
    "El bucle comença amb un *kick*, *caixa* en el segon temps, *kick* en el tercer, *caixa* en el quart i torna a començar"
   ]
  },
  {
   "cell_type": "code",
   "execution_count": null,
   "metadata": {},
   "outputs": [],
   "source": [
    "sonicpi_code \"\n",
    "\n",
    "use_bpm 100\n",
    "\n",
    "live_loop :drums do\n",
    "  sample :drum_heavy_kick\n",
    "  sleep 1\n",
    "  sample :drum_snare_hard\n",
    "  sleep 1\n",
    "  sample :drum_heavy_kick\n",
    "  sleep 1\n",
    "  sample :drum_snare_hard\n",
    "  sleep 1\n",
    "end\n",
    "\n",
    "\""
   ]
  },
  {
   "cell_type": "markdown",
   "metadata": {},
   "source": [
    "<img src=\"images/backbeat.png\"/>"
   ]
  },
  {
   "cell_type": "markdown",
   "metadata": {
    "slideshow": {
     "slide_type": "subslide"
    }
   },
   "source": [
    "# Afegim hi-hat "
   ]
  },
  {
   "cell_type": "code",
   "execution_count": 49,
   "metadata": {},
   "outputs": [
    {
     "data": {
      "text/plain": [
       "284"
      ]
     },
     "execution_count": 49,
     "metadata": {},
     "output_type": "execute_result"
    }
   ],
   "source": [
    "sonicpi_code \"\n",
    "\n",
    "use_bpm 100\n",
    "\n",
    "live_loop :drums do\n",
    "  sample :drum_heavy_kick\n",
    "  sleep 1\n",
    "  sample :drum_snare_hard\n",
    "  sleep 1\n",
    "  sample :drum_heavy_kick\n",
    "  sleep 1\n",
    "  sample :drum_snare_hard\n",
    "  sleep 1\n",
    "end\n",
    "\n",
    "live_loop :hats do\n",
    "  sample :drum_cymbal_closed\n",
    "  sleep 0.5\n",
    "end\n",
    "\n",
    "\n",
    "\n",
    "\""
   ]
  },
  {
   "cell_type": "code",
   "execution_count": 50,
   "metadata": {
    "slideshow": {
     "slide_type": "skip"
    }
   },
   "outputs": [
    {
     "data": {
      "text/plain": [
       "36"
      ]
     },
     "execution_count": 50,
     "metadata": {},
     "output_type": "execute_result"
    }
   ],
   "source": [
    "$sonicpi.stop"
   ]
  },
  {
   "cell_type": "markdown",
   "metadata": {
    "collapsed": true,
    "slideshow": {
     "slide_type": "slide"
    }
   },
   "source": [
    "## Gràcies per escoltar! Preguntes?\n",
    "\n",
    "\n",
    "- https://github.com/victormartingarcia\n",
    "- <mailto:victor.martin.garcia@gmail.com>\n",
    "- [@victormartin](https://twitter.com/victormartin)\n",
    "\n",
    "\n",
    "Codi font / Transparències: https://github.com/victormartingarcia/2018-gitech-introsonicpi\n",
    "\n"
   ]
  }
 ],
 "metadata": {
  "celltoolbar": "Slideshow",
  "kernelspec": {
   "display_name": "Ruby 2.4.1",
   "language": "ruby",
   "name": "ruby"
  },
  "language_info": {
   "file_extension": ".rb",
   "mimetype": "application/x-ruby",
   "name": "ruby",
   "version": "2.4.1"
  }
 },
 "nbformat": 4,
 "nbformat_minor": 1
}
