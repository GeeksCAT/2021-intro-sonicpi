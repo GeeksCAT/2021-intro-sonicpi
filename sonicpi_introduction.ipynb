{
 "cells": [
  {
   "cell_type": "markdown",
   "metadata": {
    "collapsed": true,
    "slideshow": {
     "slide_type": "slide"
    }
   },
   "source": [
    "<CENTER>\n",
    "    <table>\n",
    "        <tr>\n",
    "            <td>\n",
    "<img src=\"http://gitech.cat/wp-content/uploads/2018/02/LogoGitech-1.png\">\n",
    "            </td>\n",
    "            <td>\n",
    "<img src=\"http://www.tecnoateneu.cat/wp-content/uploads/2015/10/cropped-tecnoateneu-twitter-400x400.png\" height=\"200\" width=\"200\">\n",
    "            </td>\n",
    "        </tr>\n",
    "    </table>\n",
    "    \n",
    "\n",
    "  <header>\n",
    "    <h1>Introducció a Sonic Pi</h1>\n",
    "    <h3>Gitech - 28 Abril 2018</h3>\n",
    "    <h2>@victormartin</h2>\n",
    "    <p></p>\n",
    "  </header>\n",
    "</CENTER>"
   ]
  },
  {
   "cell_type": "code",
   "execution_count": 1,
   "metadata": {
    "slideshow": {
     "slide_type": "skip"
    }
   },
   "outputs": [
    {
     "data": {
      "text/plain": [
       ":sonicpi_code"
      ]
     },
     "execution_count": 1,
     "metadata": {},
     "output_type": "execute_result"
    }
   ],
   "source": [
    "# Imports i alias per utilitzar codi Sonic Pi\n",
    "\n",
    "# IMPORTANT: La aplicació Sonic Pi ha d'estar executant-se!!! Si més no el sonic-pi-server:\n",
    "# $ ruby app/server/ruby/bin/sonic-pi-server.rb\n",
    "\n",
    "require 'sonic_pi'\n",
    "$sonicpi = SonicPi.new\n",
    "\n",
    "def sonicpi_code(sonicpi_command)\n",
    "  $sonicpi.run(sonicpi_command)\n",
    "end"
   ]
  },
  {
   "cell_type": "markdown",
   "metadata": {
    "slideshow": {
     "slide_type": "slide"
    }
   },
   "source": [
    "\n",
    "# WIP!\n",
    "\n",
    "Test sonic pi audio"
   ]
  },
  {
   "cell_type": "code",
   "execution_count": 2,
   "metadata": {
    "slideshow": {
     "slide_type": "-"
    }
   },
   "outputs": [
    {
     "data": {
      "text/plain": [
       "112"
      ]
     },
     "execution_count": 2,
     "metadata": {},
     "output_type": "execute_result"
    }
   ],
   "source": [
    "sonicpi_code \"\n",
    "\n",
    "  live_loop :flibble do\n",
    "    sample :bd_haus, rate: 1\n",
    "    sleep 0.5\n",
    "  end\n",
    "\n",
    "\""
   ]
  },
  {
   "cell_type": "code",
   "execution_count": 3,
   "metadata": {
    "slideshow": {
     "slide_type": "fragment"
    }
   },
   "outputs": [
    {
     "data": {
      "text/plain": [
       "36"
      ]
     },
     "execution_count": 3,
     "metadata": {},
     "output_type": "execute_result"
    }
   ],
   "source": [
    "$sonicpi.stop"
   ]
  },
  {
   "cell_type": "markdown",
   "metadata": {
    "collapsed": true,
    "slideshow": {
     "slide_type": "slide"
    }
   },
   "source": [
    "## Gràcies per escoltar! Preguntes?\n",
    "\n",
    "\n",
    "- https://github.com/victormartingarcia\n",
    "- <mailto:victor.martin.garcia@gmail.com>\n",
    "- [@victormartin](https://twitter.com/victormartin)\n",
    "\n",
    "\n",
    "Codi font / Transparències: https://github.com/victormartingarcia/2018-gitech-introsonicpi\n",
    "\n"
   ]
  }
 ],
 "metadata": {
  "celltoolbar": "Slideshow",
  "kernelspec": {
   "display_name": "Ruby 2.4.1",
   "language": "ruby",
   "name": "ruby"
  },
  "language_info": {
   "file_extension": ".rb",
   "mimetype": "application/x-ruby",
   "name": "ruby",
   "version": "2.4.1"
  }
 },
 "nbformat": 4,
 "nbformat_minor": 1
}
