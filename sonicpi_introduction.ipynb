{
 "cells": [
  {
   "cell_type": "markdown",
   "metadata": {
    "collapsed": true,
    "slideshow": {
     "slide_type": "slide"
    }
   },
   "source": [
    "<CENTER>\n",
    "    <table>\n",
    "        <tr>\n",
    "            <td>\n",
    "<img src=\"http://gitech.cat/wp-content/uploads/2018/02/LogoGitech-1.png\">\n",
    "            </td>\n",
    "            <td>\n",
    "<img src=\"http://www.tecnoateneu.cat/wp-content/uploads/2015/10/cropped-tecnoateneu-twitter-400x400.png\" height=\"200\" width=\"200\">\n",
    "            </td>\n",
    "        </tr>\n",
    "    </table>\n",
    "    \n",
    "\n",
    "  <header>\n",
    "    <h1>Introducció a Sonic Pi</h1>\n",
    "    <h3>Gitech - 28 Abril 2018</h3>\n",
    "    <h2>@victormartin</h2>\n",
    "    <p></p>\n",
    "  </header>\n",
    "</CENTER>"
   ]
  },
  {
   "cell_type": "code",
   "execution_count": 1,
   "metadata": {
    "slideshow": {
     "slide_type": "skip"
    }
   },
   "outputs": [
    {
     "data": {
      "text/plain": [
       ":sonicpi_code"
      ]
     },
     "execution_count": 1,
     "metadata": {},
     "output_type": "execute_result"
    }
   ],
   "source": [
    "# IMPORTANT: La aplicació Sonic Pi ha d'estar executant-se!!! Si més no el sonic-pi-server:\n",
    "# $ ruby app/server/ruby/bin/sonic-pi-server.rb\n",
    "\n",
    "# Importem sonic_pi\n",
    "require 'sonic_pi'\n",
    "\n",
    "# Variable global\n",
    "$sonicpi = SonicPi.new\n",
    "\n",
    "# Alias per facilitar els exemples\n",
    "def sonicpi_code(sonicpi_command)\n",
    "  $sonicpi.run(sonicpi_command)\n",
    "end"
   ]
  },
  {
   "cell_type": "markdown",
   "metadata": {
    "slideshow": {
     "slide_type": "subslide"
    }
   },
   "source": [
    "\n",
    "# Què és Sonic Pi?\n",
    "\n",
    "\n",
    "<img src=\"http://sonic-pi.net/images/logo.png\" width=\"347\" height=\"338\">\n",
    "\n",
    "\n",
    "* Instrument musical electrònic (sintetitzador) _open source_ que es programa en directe\n",
    "\n",
    "Creat al laboratori de computació de la Universitat de Cambridge"
   ]
  },
  {
   "cell_type": "markdown",
   "metadata": {
    "slideshow": {
     "slide_type": "subslide"
    }
   },
   "source": [
    "# Entorn de desenvolupament (IDE)\n",
    "\n",
    "<img src=\"https://community.hortonworks.com/storage/attachments/10693-sonicp3.png\">"
   ]
  },
  {
   "cell_type": "markdown",
   "metadata": {
    "slideshow": {
     "slide_type": "subslide"
    }
   },
   "source": [
    "# Exemple senzill"
   ]
  },
  {
   "cell_type": "code",
   "execution_count": 4,
   "metadata": {
    "slideshow": {
     "slide_type": "-"
    }
   },
   "outputs": [
    {
     "data": {
      "text/plain": [
       "152"
      ]
     },
     "execution_count": 4,
     "metadata": {},
     "output_type": "execute_result"
    }
   ],
   "source": [
    "sonicpi_code \"\n",
    "\n",
    "  live_loop :exemple_senzill do\n",
    "    sample :bd_haus\n",
    "\n",
    "    play :A3, attack:0.3  if one_in(4)\n",
    "\n",
    "    sleep 0.5\n",
    "  end\n",
    "\n",
    "\""
   ]
  },
  {
   "cell_type": "code",
   "execution_count": 5,
   "metadata": {
    "slideshow": {
     "slide_type": "fragment"
    }
   },
   "outputs": [
    {
     "data": {
      "text/plain": [
       "36"
      ]
     },
     "execution_count": 5,
     "metadata": {},
     "output_type": "execute_result"
    }
   ],
   "source": [
    "$sonicpi.stop"
   ]
  },
  {
   "cell_type": "markdown",
   "metadata": {
    "slideshow": {
     "slide_type": "slide"
    }
   },
   "source": [
    "# Exemple avançat"
   ]
  },
  {
   "cell_type": "code",
   "execution_count": 6,
   "metadata": {},
   "outputs": [
    {
     "data": {
      "text/plain": [
       "704"
      ]
     },
     "execution_count": 6,
     "metadata": {},
     "output_type": "execute_result"
    }
   ],
   "source": [
    "sonicpi_code \"\n",
    "\n",
    "live_loop :low do |idx|\n",
    "  #  idx = 0\n",
    "  synth :zawa, wave: 1, invert_wave: 1, phase: 0.25, release: 5, note: :e1, cutoff: (range 60, 120, 10)[idx]\n",
    "  sleep 4\n",
    "  idx += 1\n",
    "end\n",
    "\n",
    "live_loop :lands, auto_cue: false do |idx|\n",
    "  use_synth :dsaw\n",
    "  use_random_seed 66679\n",
    "  with_fx :reverb, room: 1  do\n",
    "    16.times do\n",
    "      ns = (scale :e2, :minor_pentatonic, num_octaves: 3)\n",
    "      play ns.choose, detune: 12, release: 0.1, amp: 2, amp: rand + 0.5, cutoff: rrand(70, 120)\n",
    "      sleep 0.125\n",
    "    end\n",
    "  end\n",
    "end\n",
    "\n",
    "live_loop :bikes do |idx|\n",
    "  sleep 0.25\n",
    "  sample :guit_em9, rate: -1\n",
    "  sleep 7.75\n",
    "end\n",
    "\n",
    "live_loop :time, auto_cue: false do |idx|\n",
    "  sample :bd_haus, amp: 2.5\n",
    "  sleep 0.5\n",
    "end\n",
    "\n",
    "\""
   ]
  },
  {
   "cell_type": "code",
   "execution_count": 7,
   "metadata": {
    "slideshow": {
     "slide_type": "skip"
    }
   },
   "outputs": [
    {
     "data": {
      "text/plain": [
       "36"
      ]
     },
     "execution_count": 7,
     "metadata": {},
     "output_type": "execute_result"
    }
   ],
   "source": [
    "$sonicpi.stop"
   ]
  },
  {
   "cell_type": "markdown",
   "metadata": {
    "slideshow": {
     "slide_type": "slide"
    }
   },
   "source": [
    "# Missió de Sonic Pi\n",
    "\n",
    "Dissenyat sota els principis:\n",
    "\n",
    "* __Fácil__ per a que un nen de 10 anys el pugui utilitzar\n",
    "* __Divertit__ per a que fins i tot puguis perdre la noció del temps mentre jugues amb ell\n",
    "* __Potent__ per a que puguis expressar-te artísticament a través d'ell"
   ]
  },
  {
   "cell_type": "markdown",
   "metadata": {
    "slideshow": {
     "slide_type": "fragment"
    }
   },
   "source": [
    "Va començar com un experiment per _ensenyar conceptes de programació_ a les escoles, tot jugant amb el procés de crear _nous sons_"
   ]
  },
  {
   "cell_type": "markdown",
   "metadata": {
    "slideshow": {
     "slide_type": "fragment"
    }
   },
   "source": [
    "Ha evolucionat en un potent _instrument musical programat_, utilitzat per artistes professionals i DJs"
   ]
  },
  {
   "cell_type": "markdown",
   "metadata": {
    "slideshow": {
     "slide_type": "slide"
    }
   },
   "source": [
    "# [WIP] Curset ràpid de Sonic Pi\n",
    "\n",
    "La millor manera d'aprendre es sens dubte jugant!!!!\n",
    "\n",
    "https://github.com/samaaron/sonic-pi/blob/master/etc/doc/tutorial/\n",
    "\n",
    "* Notes (midi i noms tradicionals)\n",
    "* Acords (desde notes i despres amb el metode chord)\n",
    "* Escales (diferents sons d'escales)\n",
    "* Sintetitzadors (cambiar sintetittzador, amplitude, pan, etc.,)\n",
    "* Efectes d'àudio (reverb...)\n",
    "* Samplers\n",
    "* Programació\n",
    "** Aleatorització\n",
    "** Iteracions i bucles\n",
    "** Condicionals\n",
    "** Live loops"
   ]
  },
  {
   "cell_type": "markdown",
   "metadata": {
    "collapsed": true,
    "slideshow": {
     "slide_type": "slide"
    }
   },
   "source": [
    "## Gràcies per escoltar! Preguntes?\n",
    "\n",
    "\n",
    "- https://github.com/victormartingarcia\n",
    "- <mailto:victor.martin.garcia@gmail.com>\n",
    "- [@victormartin](https://twitter.com/victormartin)\n",
    "\n",
    "\n",
    "Codi font / Transparències: https://github.com/victormartingarcia/2018-gitech-introsonicpi\n",
    "\n"
   ]
  }
 ],
 "metadata": {
  "celltoolbar": "Slideshow",
  "kernelspec": {
   "display_name": "Ruby 2.4.1",
   "language": "ruby",
   "name": "ruby"
  },
  "language_info": {
   "file_extension": ".rb",
   "mimetype": "application/x-ruby",
   "name": "ruby",
   "version": "2.4.1"
  }
 },
 "nbformat": 4,
 "nbformat_minor": 1
}
